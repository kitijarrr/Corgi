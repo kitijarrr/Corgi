{
  "nbformat": 4,
  "nbformat_minor": 0,
  "metadata": {
    "colab": {
      "provenance": [],
      "authorship_tag": "ABX9TyMYjFkiHdoF03O0RhRwiIZW",
      "include_colab_link": true
    },
    "kernelspec": {
      "name": "python3",
      "display_name": "Python 3"
    },
    "language_info": {
      "name": "python"
    }
  },
  "cells": [
    {
      "cell_type": "markdown",
      "metadata": {
        "id": "view-in-github",
        "colab_type": "text"
      },
      "source": [
        "<a href=\"https://colab.research.google.com/github/kitijarrr/Corgi/blob/main/Kitija_Rozentale_report3.ipynb\" target=\"_parent\"><img src=\"https://colab.research.google.com/assets/colab-badge.svg\" alt=\"Open In Colab\"/></a>"
      ]
    },
    {
      "cell_type": "markdown",
      "source": [
        "#Kitija Rozentāle, group 1\n"
      ],
      "metadata": {
        "id": "Va0bB7P0Wrp9"
      }
    },
    {
      "cell_type": "markdown",
      "source": [
        "I feel that having a solid basis for understanding and evaluating large datasets is essential in today's data-driven environment, which this course has given me.\n",
        "\n",
        "Various opportunities for employment in fields like data science, business intelligence, and analytics are made possible by this skill set.\n",
        "\n",
        "The course materials is organized properly and include in-depth explanations and useful examples.\n",
        "\n",
        "Given that it offers a cloud-based environment with pre-installed libraries and resources, Google Colab's integration as a toolset has been helpful in delivering a fluid development experience.\n",
        "\n",
        "The course felt a little rushed at times, so it's necessary to reserve extra time for individual study and assessment.\n",
        "\n",
        "The course emphasizes practical application by providing hands-on exercises.\n",
        "\n",
        "The chance to work with actual datasets was my favorite part of the learning. \n",
        "\n",
        "I think my favorite topic was about random forests. Maybe I didn't understand it completely practically, but I like that I understood it in the first lecture theoretically."
      ],
      "metadata": {
        "id": "7WgPakd4YH-4"
      }
    },
    {
      "cell_type": "markdown",
      "source": [
        "I like that thanks to this course I could do homework in other subject, where we needed to work with datas. \n",
        "\n",
        "This is example that I like:"
      ],
      "metadata": {
        "id": "ctZUokYXj0bZ"
      }
    },
    {
      "cell_type": "code",
      "execution_count": 1,
      "metadata": {
        "id": "GvLxG9zIlFAg"
      },
      "outputs": [],
      "source": [
        "from google.colab import drive "
      ]
    },
    {
      "cell_type": "code",
      "source": [
        "drive.mount('/content/drive')"
      ],
      "metadata": {
        "colab": {
          "base_uri": "https://localhost:8080/"
        },
        "id": "qp4zgdmip1gB",
        "outputId": "a9b34932-9b85-4401-b3cf-9ee8a5d6b200"
      },
      "execution_count": 2,
      "outputs": [
        {
          "output_type": "stream",
          "name": "stdout",
          "text": [
            "Mounted at /content/drive\n"
          ]
        }
      ]
    },
    {
      "cell_type": "code",
      "source": [
        "import pandas as pd"
      ],
      "metadata": {
        "id": "zkLfnKttp8l5"
      },
      "execution_count": 3,
      "outputs": []
    },
    {
      "cell_type": "code",
      "source": [
        "data = pd.read_csv('/content/drive/MyDrive/friends/friends_quotes.csv')"
      ],
      "metadata": {
        "id": "befMnIJMqAbH"
      },
      "execution_count": 4,
      "outputs": []
    },
    {
      "cell_type": "code",
      "source": [
        "import pandas as pd\n",
        "data = pd.read_csv('/content/drive/MyDrive/friends/friends_quotes.csv')\n",
        "character_counts = data['author'].value_counts()\n",
        "character_with_most_lines = character_counts.idxmax()\n",
        "line_count= character_counts.max()\n",
        "\n",
        "print(f\"The character with the most lines is {character_with_most_lines} with {line_count} lines.\")"
      ],
      "metadata": {
        "colab": {
          "base_uri": "https://localhost:8080/"
        },
        "id": "qbwCrOKLVsSi",
        "outputId": "4ef02323-d241-4ff8-b6a9-1dcebdcdae8a"
      },
      "execution_count": 5,
      "outputs": [
        {
          "output_type": "stream",
          "name": "stdout",
          "text": [
            "The character with the most lines is Rachel with 8318 lines.\n"
          ]
        }
      ]
    },
    {
      "cell_type": "markdown",
      "source": [
        "Also, I like that I can make this, at first I couldn't, but I watched some videos, and then I realized how, and I think it looks pretty cool."
      ],
      "metadata": {
        "id": "RiXnVhl1UosD"
      }
    },
    {
      "cell_type": "code",
      "source": [
        "import numpy as np\n",
        "import pandas as pd\n",
        "\n",
        "import matplotlib.pyplot as plt\n",
        "\n",
        "plt.rcParams['figure.figsize'] = (16,9)\n",
        "plt.style.use('ggplot')"
      ],
      "metadata": {
        "id": "9B7e2IqfRKi0"
      },
      "execution_count": 22,
      "outputs": []
    },
    {
      "cell_type": "code",
      "source": [
        "import seaborn as sns\n",
        "\n",
        "from sklearn.datasets import load_wine\n",
        "\n",
        "wine_data = load_wine()\n",
        "data = wine_data.data\n",
        "target = wine_data.target\n",
        "\n",
        "data = pd.DataFrame(data)\n",
        "data['target'] = target\n",
        "\n",
        "corr = data.corr()\n",
        "sns.heatmap(corr)\n"
      ],
      "metadata": {
        "colab": {
          "base_uri": "https://localhost:8080/",
          "height": 776
        },
        "id": "SMfZohtXUfFK",
        "outputId": "45c6419c-c99d-4471-8281-8df8b0a016ef"
      },
      "execution_count": 23,
      "outputs": [
        {
          "output_type": "execute_result",
          "data": {
            "text/plain": [
              "<Axes: >"
            ]
          },
          "metadata": {},
          "execution_count": 23
        },
        {
          "output_type": "display_data",
          "data": {
            "text/plain": [
              "<Figure size 1600x900 with 2 Axes>"
            ],
            "image/png": "[encoded data removed]"
          },
          "metadata": {}
        }
      ]
    },
    {
      "cell_type": "markdown",
      "source": [
        "#Conclusions\n",
        "\n",
        "I think the \"Introduction to Big Data Analytics\" course leaves me and my clasmates with important data analysis knowledge and abilities. It makes students ready for potential professions in a variety of fields where big data is important. Students get a solid basis to handle complex data challenges and contribute to the growing field of big data analytics by mixing academic knowledge with practical application.\n",
        "\n",
        "Troubleshooting can be time-consuming and irritating when dealing with unknown issues that can occur when working with huge datasets and complex algorithms. I am aware that this is a typical element of programming and data analysis. But when errors happen to me, I get a little panicky and don't know what to do. So I need to learn more about more complex things, but I hope I have somehow learned the basics."
      ],
      "metadata": {
        "id": "9NH-UR7vV8_X"
      }
    }
  ]
}